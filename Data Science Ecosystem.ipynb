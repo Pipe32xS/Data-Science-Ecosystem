{
 "cells": [
  {
   "cell_type": "markdown",
   "id": "e8b21ce8-e426-4757-b5ec-6052738f28e7",
   "metadata": {},
   "source": [
    "# Herramientas para la ciencia de datos_Modulo(6)\n"
   ]
  },
  {
   "cell_type": "markdown",
   "id": "a2cd1522-0c2c-46ac-8602-c65b042517b1",
   "metadata": {},
   "source": [
    "Aquí se muestran las herramientas de la ciencia de datos"
   ]
  },
  {
   "cell_type": "markdown",
   "id": "53253581-3ac0-44a2-b300-02727430c593",
   "metadata": {},
   "source": [
    "**Objetivos:**\n",
    "- Enumerar los lenguajes más populares para la ciencia de datos\n",
    "- identificar herramientas usadas en entornos de ciencias de datos\n",
    "- Identificar las bibliotecas más utilizadas en la ciencia de datos\n",
    "- Comprender las expresiones aritméticas en Python"
   ]
  },
  {
   "cell_type": "markdown",
   "id": "e5a42342-d392-4bb1-b1d7-2ea3ad75b89b",
   "metadata": {},
   "source": [
    "Los siguientes son algunos de los lenguajes populares que utilizan los científicos de datos:\n",
    "\n",
    "1. Java\n",
    "2. Scala\n",
    "3. SQL\n",
    "4. C++\n",
    "5. R\n"
   ]
  },
  {
   "cell_type": "markdown",
   "id": "bf69e34f-1c97-452d-9c5d-8da7b19ed3b5",
   "metadata": {},
   "source": [
    "Algunas de las bibliotecas más utilizadas por los científicos de datos incluyen:\n",
    "- Seaborn\n",
    "- Pandas\n",
    "- Matplotlib\n",
    "- Numpy\n",
    "- NLTK"
   ]
  },
  {
   "cell_type": "markdown",
   "id": "0f08c23e-4fe0-444d-a1b2-124b75de0217",
   "metadata": {},
   "source": [
    "| Herramientas de ciencia de datos |\n",
    "|--------------------|\n",
    "| Vscode |\n",
    "| RStudio |\n",
    "| Zeppelin|"
   ]
  },
  {
   "cell_type": "markdown",
   "id": "76c8c1da-019c-478d-9764-930fd5fed5ba",
   "metadata": {},
   "source": [
    "### A continuación se muestran ejemplos de evaluación de expresiones aritméticas en Python."
   ]
  },
  {
   "cell_type": "code",
   "execution_count": 2,
   "id": "f1631631-f7bd-4532-921f-0bd90e645ea5",
   "metadata": {},
   "outputs": [
    {
     "data": {
      "text/plain": [
       "17"
      ]
     },
     "execution_count": 2,
     "metadata": {},
     "output_type": "execute_result"
    }
   ],
   "source": [
    "# Ecuación matematica\n",
    "(3*4)+5"
   ]
  },
  {
   "cell_type": "code",
   "execution_count": 1,
   "id": "69763b61-6f70-4bea-9ad9-957a4c366bd3",
   "metadata": {},
   "outputs": [
    {
     "data": {
      "text/plain": [
       "3.3333333333333335"
      ]
     },
     "execution_count": 1,
     "metadata": {},
     "output_type": "execute_result"
    }
   ],
   "source": [
    "# Minutos a hora\n",
    "Minutos = 200\n",
    "Horas = Minutos / 60\n",
    "Horas\n"
   ]
  },
  {
   "cell_type": "markdown",
   "id": "7c66a5aa-78f1-4d7a-b0db-bb487ba22112",
   "metadata": {},
   "source": [
    "Autor\n",
    "## Felipe Vallade"
   ]
  }
 ],
 "metadata": {
  "kernelspec": {
   "display_name": "Python 3",
   "language": "python",
   "name": "python3"
  },
  "language_info": {
   "codemirror_mode": {
    "name": "ipython",
    "version": 3
   },
   "file_extension": ".py",
   "mimetype": "text/x-python",
   "name": "python",
   "nbconvert_exporter": "python",
   "pygments_lexer": "ipython3",
   "version": "3.12.4"
  }
 },
 "nbformat": 4,
 "nbformat_minor": 5
}
